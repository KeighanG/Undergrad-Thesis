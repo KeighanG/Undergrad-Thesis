{
 "cells": [
  {
   "cell_type": "code",
   "execution_count": 1,
   "id": "8beb6d0b-9bb4-4439-a129-b11a7cd29a26",
   "metadata": {},
   "outputs": [
    {
     "name": "stdout",
     "output_type": "stream",
     "text": [
      "Collecting scipy\n",
      "  Using cached scipy-1.7.2-cp38-cp38-manylinux_2_17_x86_64.manylinux2014_x86_64.whl (39.3 MB)\n",
      "Collecting numpy<1.23.0,>=1.16.5\n",
      "  Using cached numpy-1.21.4-cp38-cp38-manylinux_2_12_x86_64.manylinux2010_x86_64.whl (15.7 MB)\n",
      "Installing collected packages: numpy, scipy\n",
      "\u001b[31mERROR: Could not install packages due to an EnvironmentError: [Errno 13] Permission denied: '/opt/jupyterhub/lib/python3.8/site-packages/numpy-1.21.4.dist-info'\n",
      "Consider using the `--user` option or check the permissions.\n",
      "\u001b[0m\n",
      "Note: you may need to restart the kernel to use updated packages.\n"
     ]
    }
   ],
   "source": [
    "pip install scipy"
   ]
  },
  {
   "cell_type": "code",
   "execution_count": 2,
   "id": "66135054-9725-41d4-b44a-2dbb04323178",
   "metadata": {},
   "outputs": [
    {
     "name": "stdout",
     "output_type": "stream",
     "text": [
      "Collecting jupyter_contrib_nbextensions\n",
      "  Using cached jupyter_contrib_nbextensions-0.5.1-py2.py3-none-any.whl (20.9 MB)\n",
      "Collecting lxml\n",
      "  Using cached lxml-4.6.4-cp38-cp38-manylinux_2_17_x86_64.manylinux2014_x86_64.manylinux_2_24_x86_64.whl (6.9 MB)\n",
      "Requirement already satisfied: nbconvert>=4.2 in /opt/jupyterhub/lib/python3.8/site-packages (from jupyter_contrib_nbextensions) (6.0.7)\n",
      "Requirement already satisfied: notebook>=4.0 in /opt/jupyterhub/lib/python3.8/site-packages (from jupyter_contrib_nbextensions) (6.4.0)\n",
      "Processing /home/kgemmell/.cache/pip/wheels/e3/3a/b3/a709b437602c3807f079f0c35ccba3e1adf9af6f2e6b0ebfea/jupyter_nbextensions_configurator-0.4.1-py2.py3-none-any.whl\n",
      "Requirement already satisfied: ipython-genutils in /opt/jupyterhub/lib/python3.8/site-packages (from jupyter_contrib_nbextensions) (0.2.0)\n",
      "Requirement already satisfied: tornado in /opt/jupyterhub/lib/python3.8/site-packages (from jupyter_contrib_nbextensions) (6.1)\n",
      "Collecting jupyter-highlight-selected-word>=0.1.1\n",
      "  Using cached jupyter_highlight_selected_word-0.2.0-py2.py3-none-any.whl (11 kB)\n",
      "Collecting jupyter-contrib-core>=0.3.3\n",
      "  Using cached jupyter_contrib_core-0.3.3-py2.py3-none-any.whl (18 kB)\n",
      "Requirement already satisfied: traitlets>=4.1 in /opt/jupyterhub/lib/python3.8/site-packages (from jupyter_contrib_nbextensions) (5.0.5)\n",
      "Requirement already satisfied: jupyter-core in /opt/jupyterhub/lib/python3.8/site-packages (from jupyter_contrib_nbextensions) (4.7.1)\n",
      "Collecting pyyaml\n",
      "  Using cached PyYAML-6.0-cp38-cp38-manylinux_2_5_x86_64.manylinux1_x86_64.manylinux_2_12_x86_64.manylinux2010_x86_64.whl (701 kB)\n",
      "Processing /home/kgemmell/.cache/pip/wheels/4d/ba/f4/b8c0941055519ebc0f27e85bfe2bb223f1a59a3b8bfc5c7515/jupyter_latex_envs-1.4.6-py2.py3-none-any.whl\n",
      "Requirement already satisfied: bleach in /opt/jupyterhub/lib/python3.8/site-packages (from nbconvert>=4.2->jupyter_contrib_nbextensions) (3.3.0)\n",
      "Requirement already satisfied: defusedxml in /opt/jupyterhub/lib/python3.8/site-packages (from nbconvert>=4.2->jupyter_contrib_nbextensions) (0.7.1)\n",
      "Requirement already satisfied: testpath in /opt/jupyterhub/lib/python3.8/site-packages (from nbconvert>=4.2->jupyter_contrib_nbextensions) (0.5.0)\n",
      "Requirement already satisfied: mistune<2,>=0.8.1 in /opt/jupyterhub/lib/python3.8/site-packages (from nbconvert>=4.2->jupyter_contrib_nbextensions) (0.8.4)\n",
      "Requirement already satisfied: jupyterlab-pygments in /opt/jupyterhub/lib/python3.8/site-packages (from nbconvert>=4.2->jupyter_contrib_nbextensions) (0.1.2)\n",
      "Requirement already satisfied: pandocfilters>=1.4.1 in /opt/jupyterhub/lib/python3.8/site-packages (from nbconvert>=4.2->jupyter_contrib_nbextensions) (1.4.3)\n",
      "Requirement already satisfied: pygments>=2.4.1 in /opt/jupyterhub/lib/python3.8/site-packages (from nbconvert>=4.2->jupyter_contrib_nbextensions) (2.9.0)\n",
      "Requirement already satisfied: nbclient<0.6.0,>=0.5.0 in /opt/jupyterhub/lib/python3.8/site-packages (from nbconvert>=4.2->jupyter_contrib_nbextensions) (0.5.3)\n",
      "Requirement already satisfied: entrypoints>=0.2.2 in /opt/jupyterhub/lib/python3.8/site-packages (from nbconvert>=4.2->jupyter_contrib_nbextensions) (0.3)\n",
      "Requirement already satisfied: jinja2>=2.4 in /opt/jupyterhub/lib/python3.8/site-packages (from nbconvert>=4.2->jupyter_contrib_nbextensions) (3.0.1)\n",
      "Requirement already satisfied: nbformat>=4.4 in /opt/jupyterhub/lib/python3.8/site-packages (from nbconvert>=4.2->jupyter_contrib_nbextensions) (5.1.3)\n",
      "Requirement already satisfied: pyzmq>=17 in /opt/jupyterhub/lib/python3.8/site-packages (from notebook>=4.0->jupyter_contrib_nbextensions) (22.1.0)\n",
      "Requirement already satisfied: ipykernel in /opt/jupyterhub/lib/python3.8/site-packages (from notebook>=4.0->jupyter_contrib_nbextensions) (5.5.5)\n",
      "Requirement already satisfied: terminado>=0.8.3 in /opt/jupyterhub/lib/python3.8/site-packages (from notebook>=4.0->jupyter_contrib_nbextensions) (0.10.1)\n",
      "Requirement already satisfied: jupyter-client>=5.3.4 in /opt/jupyterhub/lib/python3.8/site-packages (from notebook>=4.0->jupyter_contrib_nbextensions) (6.1.12)\n",
      "Requirement already satisfied: argon2-cffi in /opt/jupyterhub/lib/python3.8/site-packages (from notebook>=4.0->jupyter_contrib_nbextensions) (20.1.0)\n",
      "Requirement already satisfied: prometheus-client in /opt/jupyterhub/lib/python3.8/site-packages (from notebook>=4.0->jupyter_contrib_nbextensions) (0.11.0)\n",
      "Requirement already satisfied: Send2Trash>=1.5.0 in /opt/jupyterhub/lib/python3.8/site-packages (from notebook>=4.0->jupyter_contrib_nbextensions) (1.5.0)\n",
      "Requirement already satisfied: setuptools in /opt/jupyterhub/lib/python3.8/site-packages (from jupyter-contrib-core>=0.3.3->jupyter_contrib_nbextensions) (44.0.0)\n",
      "Requirement already satisfied: ipython in /opt/jupyterhub/lib/python3.8/site-packages (from jupyter-latex-envs>=1.3.8->jupyter_contrib_nbextensions) (7.24.1)\n",
      "Requirement already satisfied: packaging in /opt/jupyterhub/lib/python3.8/site-packages (from bleach->nbconvert>=4.2->jupyter_contrib_nbextensions) (20.9)\n",
      "Requirement already satisfied: six>=1.9.0 in /opt/jupyterhub/lib/python3.8/site-packages (from bleach->nbconvert>=4.2->jupyter_contrib_nbextensions) (1.16.0)\n",
      "Requirement already satisfied: webencodings in /opt/jupyterhub/lib/python3.8/site-packages (from bleach->nbconvert>=4.2->jupyter_contrib_nbextensions) (0.5.1)\n",
      "Requirement already satisfied: async-generator in /opt/jupyterhub/lib/python3.8/site-packages (from nbclient<0.6.0,>=0.5.0->nbconvert>=4.2->jupyter_contrib_nbextensions) (1.10)\n",
      "Requirement already satisfied: nest-asyncio in /opt/jupyterhub/lib/python3.8/site-packages (from nbclient<0.6.0,>=0.5.0->nbconvert>=4.2->jupyter_contrib_nbextensions) (1.5.1)\n",
      "Requirement already satisfied: MarkupSafe>=2.0 in /opt/jupyterhub/lib/python3.8/site-packages (from jinja2>=2.4->nbconvert>=4.2->jupyter_contrib_nbextensions) (2.0.1)\n",
      "Requirement already satisfied: jsonschema!=2.5.0,>=2.4 in /opt/jupyterhub/lib/python3.8/site-packages (from nbformat>=4.4->nbconvert>=4.2->jupyter_contrib_nbextensions) (3.2.0)\n",
      "Requirement already satisfied: ptyprocess; os_name != \"nt\" in /opt/jupyterhub/lib/python3.8/site-packages (from terminado>=0.8.3->notebook>=4.0->jupyter_contrib_nbextensions) (0.7.0)\n",
      "Requirement already satisfied: python-dateutil>=2.1 in /opt/jupyterhub/lib/python3.8/site-packages (from jupyter-client>=5.3.4->notebook>=4.0->jupyter_contrib_nbextensions) (2.8.1)\n",
      "Requirement already satisfied: cffi>=1.0.0 in /opt/jupyterhub/lib/python3.8/site-packages (from argon2-cffi->notebook>=4.0->jupyter_contrib_nbextensions) (1.14.5)\n",
      "Requirement already satisfied: matplotlib-inline in /opt/jupyterhub/lib/python3.8/site-packages (from ipython->jupyter-latex-envs>=1.3.8->jupyter_contrib_nbextensions) (0.1.2)\n",
      "Requirement already satisfied: backcall in /opt/jupyterhub/lib/python3.8/site-packages (from ipython->jupyter-latex-envs>=1.3.8->jupyter_contrib_nbextensions) (0.2.0)\n",
      "Requirement already satisfied: decorator in /opt/jupyterhub/lib/python3.8/site-packages (from ipython->jupyter-latex-envs>=1.3.8->jupyter_contrib_nbextensions) (5.0.9)\n",
      "Requirement already satisfied: prompt-toolkit!=3.0.0,!=3.0.1,<3.1.0,>=2.0.0 in /opt/jupyterhub/lib/python3.8/site-packages (from ipython->jupyter-latex-envs>=1.3.8->jupyter_contrib_nbextensions) (3.0.18)\n",
      "Requirement already satisfied: pexpect>4.3; sys_platform != \"win32\" in /opt/jupyterhub/lib/python3.8/site-packages (from ipython->jupyter-latex-envs>=1.3.8->jupyter_contrib_nbextensions) (4.8.0)\n",
      "Requirement already satisfied: jedi>=0.16 in /opt/jupyterhub/lib/python3.8/site-packages (from ipython->jupyter-latex-envs>=1.3.8->jupyter_contrib_nbextensions) (0.18.0)\n",
      "Requirement already satisfied: pickleshare in /opt/jupyterhub/lib/python3.8/site-packages (from ipython->jupyter-latex-envs>=1.3.8->jupyter_contrib_nbextensions) (0.7.5)\n",
      "Requirement already satisfied: pyparsing>=2.0.2 in /opt/jupyterhub/lib/python3.8/site-packages (from packaging->bleach->nbconvert>=4.2->jupyter_contrib_nbextensions) (2.4.7)\n",
      "Requirement already satisfied: pyrsistent>=0.14.0 in /opt/jupyterhub/lib/python3.8/site-packages (from jsonschema!=2.5.0,>=2.4->nbformat>=4.4->nbconvert>=4.2->jupyter_contrib_nbextensions) (0.17.3)\n",
      "Requirement already satisfied: attrs>=17.4.0 in /opt/jupyterhub/lib/python3.8/site-packages (from jsonschema!=2.5.0,>=2.4->nbformat>=4.4->nbconvert>=4.2->jupyter_contrib_nbextensions) (21.2.0)\n",
      "Requirement already satisfied: pycparser in /opt/jupyterhub/lib/python3.8/site-packages (from cffi>=1.0.0->argon2-cffi->notebook>=4.0->jupyter_contrib_nbextensions) (2.20)\n",
      "Requirement already satisfied: wcwidth in /opt/jupyterhub/lib/python3.8/site-packages (from prompt-toolkit!=3.0.0,!=3.0.1,<3.1.0,>=2.0.0->ipython->jupyter-latex-envs>=1.3.8->jupyter_contrib_nbextensions) (0.2.5)\n",
      "Requirement already satisfied: parso<0.9.0,>=0.8.0 in /opt/jupyterhub/lib/python3.8/site-packages (from jedi>=0.16->ipython->jupyter-latex-envs>=1.3.8->jupyter_contrib_nbextensions) (0.8.2)\n",
      "Installing collected packages: lxml, jupyter-contrib-core, pyyaml, jupyter-nbextensions-configurator, jupyter-highlight-selected-word, jupyter-latex-envs, jupyter-contrib-nbextensions\n",
      "\u001b[31mERROR: Could not install packages due to an EnvironmentError: [Errno 13] Permission denied: '/opt/jupyterhub/lib/python3.8/site-packages/lxml'\n",
      "Consider using the `--user` option or check the permissions.\n",
      "\u001b[0m\n",
      "Note: you may need to restart the kernel to use updated packages.\n"
     ]
    }
   ],
   "source": [
    "pip install jupyter_contrib_nbextensions"
   ]
  },
  {
   "cell_type": "code",
   "execution_count": 3,
   "id": "493e2772-760c-4875-b741-f7ab250c6920",
   "metadata": {},
   "outputs": [
    {
     "name": "stdout",
     "output_type": "stream",
     "text": [
      "Collecting netCDF4\n",
      "  Using cached netCDF4-1.5.8-cp38-cp38-manylinux_2_17_x86_64.manylinux2014_x86_64.whl (4.7 MB)\n",
      "Collecting numpy>=1.9\n",
      "  Using cached numpy-1.21.4-cp38-cp38-manylinux_2_12_x86_64.manylinux2010_x86_64.whl (15.7 MB)\n",
      "Collecting cftime\n",
      "  Using cached cftime-1.5.1.1-cp38-cp38-manylinux_2_17_x86_64.manylinux2014_x86_64.whl (228 kB)\n",
      "Installing collected packages: numpy, cftime, netCDF4\n",
      "\u001b[31mERROR: Could not install packages due to an EnvironmentError: [Errno 13] Permission denied: '/opt/jupyterhub/lib/python3.8/site-packages/numpy-1.21.4.dist-info'\n",
      "Consider using the `--user` option or check the permissions.\n",
      "\u001b[0m\n",
      "Note: you may need to restart the kernel to use updated packages.\n"
     ]
    }
   ],
   "source": [
    "pip install netCDF4"
   ]
  },
  {
   "cell_type": "code",
   "execution_count": 4,
   "id": "e03a2f72-2a7a-4a24-a758-1d253f96ea16",
   "metadata": {},
   "outputs": [
    {
     "name": "stdout",
     "output_type": "stream",
     "text": [
      "Collecting numpy\n",
      "  Using cached numpy-1.21.4-cp38-cp38-manylinux_2_12_x86_64.manylinux2010_x86_64.whl (15.7 MB)\n",
      "Installing collected packages: numpy\n",
      "\u001b[31mERROR: Could not install packages due to an EnvironmentError: [Errno 13] Permission denied: '/opt/jupyterhub/lib/python3.8/site-packages/numpy-1.21.4.dist-info'\n",
      "Consider using the `--user` option or check the permissions.\n",
      "\u001b[0m\n",
      "Note: you may need to restart the kernel to use updated packages.\n"
     ]
    }
   ],
   "source": [
    "pip install numpy"
   ]
  },
  {
   "cell_type": "code",
   "execution_count": 5,
   "id": "dea6da22-d321-4a5d-a4e3-eca99d951ef1",
   "metadata": {},
   "outputs": [
    {
     "name": "stdout",
     "output_type": "stream",
     "text": [
      "Collecting matplotlib\n",
      "  Using cached matplotlib-3.4.3-cp38-cp38-manylinux1_x86_64.whl (10.3 MB)\n",
      "Collecting kiwisolver>=1.0.1\n",
      "  Using cached kiwisolver-1.3.2-cp38-cp38-manylinux_2_5_x86_64.manylinux1_x86_64.whl (1.2 MB)\n",
      "Collecting cycler>=0.10\n",
      "  Using cached cycler-0.11.0-py3-none-any.whl (6.4 kB)\n",
      "Requirement already satisfied: pyparsing>=2.2.1 in /opt/jupyterhub/lib/python3.8/site-packages (from matplotlib) (2.4.7)\n",
      "Collecting pillow>=6.2.0\n",
      "  Using cached Pillow-8.4.0-cp38-cp38-manylinux_2_17_x86_64.manylinux2014_x86_64.whl (3.1 MB)\n",
      "Requirement already satisfied: python-dateutil>=2.7 in /opt/jupyterhub/lib/python3.8/site-packages (from matplotlib) (2.8.1)\n",
      "Collecting numpy>=1.16\n",
      "  Using cached numpy-1.21.4-cp38-cp38-manylinux_2_12_x86_64.manylinux2010_x86_64.whl (15.7 MB)\n",
      "Requirement already satisfied: six>=1.5 in /opt/jupyterhub/lib/python3.8/site-packages (from python-dateutil>=2.7->matplotlib) (1.16.0)\n",
      "Installing collected packages: kiwisolver, cycler, pillow, numpy, matplotlib\n",
      "\u001b[31mERROR: Could not install packages due to an EnvironmentError: [Errno 13] Permission denied: '/opt/jupyterhub/lib/python3.8/site-packages/kiwisolver.cpython-38-x86_64-linux-gnu.so'\n",
      "Consider using the `--user` option or check the permissions.\n",
      "\u001b[0m\n",
      "Note: you may need to restart the kernel to use updated packages.\n"
     ]
    }
   ],
   "source": [
    "pip install matplotlib"
   ]
  },
  {
   "cell_type": "code",
   "execution_count": 6,
   "id": "d3df9a8f-ed19-4a23-90a0-0cbebd991129",
   "metadata": {},
   "outputs": [
    {
     "ename": "ModuleNotFoundError",
     "evalue": "No module named 'numpy'",
     "output_type": "error",
     "traceback": [
      "\u001b[0;31m---------------------------------------------------------------------------\u001b[0m",
      "\u001b[0;31mModuleNotFoundError\u001b[0m                       Traceback (most recent call last)",
      "\u001b[0;32m<ipython-input-6-37eb84e339d7>\u001b[0m in \u001b[0;36m<module>\u001b[0;34m\u001b[0m\n\u001b[1;32m      1\u001b[0m \u001b[0;32mimport\u001b[0m \u001b[0mmath\u001b[0m\u001b[0;34m\u001b[0m\u001b[0;34m\u001b[0m\u001b[0m\n\u001b[0;32m----> 2\u001b[0;31m \u001b[0;32mimport\u001b[0m \u001b[0mnumpy\u001b[0m \u001b[0;32mas\u001b[0m \u001b[0mnp\u001b[0m\u001b[0;34m\u001b[0m\u001b[0;34m\u001b[0m\u001b[0m\n\u001b[0m\u001b[1;32m      3\u001b[0m \u001b[0;32mfrom\u001b[0m \u001b[0mnetCDF4\u001b[0m \u001b[0;32mimport\u001b[0m \u001b[0mDataset\u001b[0m\u001b[0;34m\u001b[0m\u001b[0;34m\u001b[0m\u001b[0m\n\u001b[1;32m      4\u001b[0m \u001b[0;32mimport\u001b[0m \u001b[0mmatplotlib\u001b[0m\u001b[0;34m.\u001b[0m\u001b[0mpyplot\u001b[0m \u001b[0;32mas\u001b[0m \u001b[0mplt\u001b[0m\u001b[0;34m\u001b[0m\u001b[0;34m\u001b[0m\u001b[0m\n\u001b[1;32m      5\u001b[0m \u001b[0;32mimport\u001b[0m \u001b[0mmatplotlib\u001b[0m\u001b[0;34m.\u001b[0m\u001b[0mcolors\u001b[0m \u001b[0;32mas\u001b[0m \u001b[0mcolors\u001b[0m\u001b[0;34m\u001b[0m\u001b[0;34m\u001b[0m\u001b[0m\n",
      "\u001b[0;31mModuleNotFoundError\u001b[0m: No module named 'numpy'"
     ]
    }
   ],
   "source": [
    "import math\n",
    "import numpy as np\n",
    "from netCDF4 import Dataset\n",
    "import matplotlib.pyplot as plt\n",
    "import matplotlib.colors as colors\n",
    "#Read in Data\n",
    "path='/home/kgemmell/weathering/DeepMIP/landmask.nc'\n",
    "d=Dataset(path,'r')\n",
    "lat=d.variables['lat'][:]\n",
    "lon=d.variables['lon'][:]\n",
    "#lon[lon>180]=lon[lon>180]-360, not working!!!!!\n",
    "Landmask=d.variables['sftlf'][:,:,:]\n",
    "Land=np.mean(Landmask,axis=0)\n",
    "Land[Land<1]=np.nan\n",
    "\n",
    "#1x CO2\n",
    "path1='/home/kgemmell/weathering/DeepMIP/1xCO2/1xCO2tsDeepMIP.nc'\n",
    "d1=Dataset(path1,'r')\n",
    "TS1=d1.variables['ts'][:,:,:]\n",
    "TS1=np.mean(TS1,axis=0)\n",
    "TS1[np.isnan(Land)]=np.nan\n",
    "\n",
    "path1a='/home/kgemmell/weathering/DeepMIP/1xCO2/1xCO2PrecDeepMIP.nc'\n",
    "d1a=Dataset(path1a,'r')\n",
    "Pr1=d1a.variables['pr'][:,:,:]\n",
    "Prec1=np.mean(Pr1,axis=0)\n",
    "Prec1[np.isnan(Land)]=np.nan\n",
    "\n",
    "#3x CO2\n",
    "path3='/home/kgemmell/weathering/DeepMIP/3xCO2/3xCO2tsDeepMIP.nc'\n",
    "d3=Dataset(path3,'r')\n",
    "TS3=d3.variables['ts'][:,:,:]\n",
    "TS3=np.mean(TS3,axis=0)\n",
    "TS3[np.isnan(Land)]=np.nan\n",
    "\n",
    "path3a='/home/kgemmell/weathering/DeepMIP/3xCO2/3xCO2PrecDeepMIP.nc'\n",
    "d3a=Dataset(path3a,'r')\n",
    "Pr3=d3a.variables['pr'][:,:,:]\n",
    "Prec3=np.mean(Pr3,axis=0)\n",
    "Prec3[np.isnan(Land)]=np.nan\n",
    "\n",
    "#6x CO2\n",
    "path6='/home/kgemmell/weathering/DeepMIP/6xCO2/6xCO2tsDeepMIP.nc'\n",
    "d6=Dataset(path6,'r')\n",
    "TS6=d6.variables['ts'][:,:,:]\n",
    "TS6=np.mean(TS6,axis=0)\n",
    "TS6[np.isnan(Land)]=np.nan\n",
    "\n",
    "path6a='/home/kgemmell/weathering/DeepMIP/6xCO2/6xCO2PrecDeepMIP.nc'\n",
    "d6a=Dataset(path6a,'r')\n",
    "Pr6=d6a.variables['pr'][:,:,:]\n",
    "Prec6=np.mean(Pr6,axis=0)\n",
    "Prec6[np.isnan(Land)]=np.nan\n",
    "\n",
    "\n",
    "#9x CO2\n",
    "path9='/home/kgemmell/weathering/DeepMIP/9xCO2/9xCO2tsDeepMIP.nc'\n",
    "d9=Dataset(path9,'r')\n",
    "TS9=d1.variables['ts'][:,:,:]\n",
    "TS9=np.mean(TS9,axis=0)\n",
    "TS9[np.isnan(Land)]=np.nan\n",
    "\n",
    "path9a='/home/kgemmell/weathering/DeepMIP/9xCO2/9xCO2PrecDeepMIP.nc'\n",
    "d9a=Dataset(path9a,'r')\n",
    "Pr9=d9a.variables['pr'][:,:,:]\n",
    "Prec9=np.mean(Pr9,axis=0)\n",
    "Prec9[np.isnan(Land)]=np.nan\n"
   ]
  },
  {
   "cell_type": "code",
   "execution_count": null,
   "id": "e338fb33-01f5-4581-9221-a80e1160e946",
   "metadata": {},
   "outputs": [],
   "source": [
    "#Define Constants\n",
    "rho=1000 #kg/m3, density of freshwater\n",
    "Rc=8.314 #J/mol/K\n",
    "B=0.65 #From Colbourn\n",
    "Lvap=2.26*10**6 #J/kg\n",
    "C0=280 #ppm\n",
    "T0=287.1968543493361 #K, from CESM piControl\n",
    "Eah=55 #Homogenous Ea, KJ/mol\n",
    "bsilh=0.02 #Homogeneous bsil\n",
    "co21=280 #ppm\n",
    "co23=840\n",
    "co26=1680\n",
    "co29=2520 #ppm"
   ]
  },
  {
   "cell_type": "code",
   "execution_count": null,
   "id": "d4a55ca1-6a3e-43fc-8d3e-49a073c6311b",
   "metadata": {},
   "outputs": [],
   "source": [
    "#Equations\n",
    "#1x CO2\n",
    "Prec1=(Prec1/rho)*60*60*24*365.25*1000\n",
    "R1=0.018*Prec1**1.441\n",
    "\n",
    "Pterm1=(co21/C0)**0.5\n",
    "Tterm1=((np.exp((((-Eah*1000)/Rc)*(1/TS1-1/T0)))))\n",
    "Rterm1=R1*bsilh\n",
    "F1=Pterm1*Tterm1*Rterm1\n",
    "F1[F1<0]=0\n",
    "Fg1=F1\n",
    "\n",
    "#3x CO2\n",
    "Prec3=(Prec3/rho)*60*60*24*365.25*1000\n",
    "R3=0.018*Prec3**1.441\n",
    "\n",
    "Pterm3=(co23/C0)**0.5\n",
    "Tterm3=((np.exp((((-Eah*1000)/Rc)*(1/TS3-1/T0)))))\n",
    "Rterm3=R3*bsilh\n",
    "F3=Pterm3*Tterm3*Rterm3\n",
    "F3[F3<0]=0\n",
    "Fg3=F3\n",
    "\n",
    "#6x CO2\n",
    "Prec6=(Prec6/rho)*60*60*24*365.25*1000\n",
    "R6=0.018*Prec6**1.441\n",
    "\n",
    "Pterm6=(co26/C0)**0.5\n",
    "Tterm6=((np.exp((((-Eah*1000)/Rc)*(1/TS6-1/T0)))))\n",
    "Rterm6=R6*bsilh\n",
    "F6=Pterm6*Tterm6*Rterm6\n",
    "F6[F6<0]=0\n",
    "Fg6=F6\n",
    "\n",
    "#9x CO2\n",
    "Prec9=(Prec9/rho)*60*60*24*365.25*1000\n",
    "R9=0.018*Prec9**1.441\n",
    "\n",
    "Pterm9=(co29/C0)**0.5\n",
    "Tterm9=((np.exp((((-Eah*1000)/Rc)*(1/TS9-1/T0)))))\n",
    "Rterm9=R9*bsilh\n",
    "F9=Pterm9*Tterm9*Rterm9\n",
    "F9[F9<0]=0\n",
    "Fg9=F9"
   ]
  },
  {
   "cell_type": "code",
   "execution_count": null,
   "id": "5d845be5-fdaf-4e3c-bf3f-1c3b0cca8db4",
   "metadata": {},
   "outputs": [],
   "source": [
    "#Conversion to M (10^6) mol C\n",
    "MMconv=12.011/44.011 #MM of C / MM of CO2\n",
    "ttomol=(10**6)/12.01 #(g/t)/(g/mol)of C = mol C\n",
    "\n",
    "F1=F1*MMconv*ttomol*10**-6\n",
    "F3=F3*MMconv*ttomol*10**-6\n",
    "F6=F6*MMconv*ttomol*10**-6\n",
    "F9=F9*MMconv*ttomol*10**-6"
   ]
  },
  {
   "cell_type": "code",
   "execution_count": null,
   "id": "64b2000f-8102-490d-b68e-5c7001a3207b",
   "metadata": {},
   "outputs": [],
   "source": [
    "#Total weathering rate calculation (10^12 mol/yr)\n",
    "#1x CO2\n",
    "Total1=Fg1*A\n",
    "final1=np.nansum(Total1,axis=1)\n",
    "final1=np.nansum(final1)/10**12\n",
    "Flux1=final1/44.011 # 10^12 mol C/yr\n",
    "print(Flux1,'1x CO2')\n",
    "\n",
    "#3x CO2\n",
    "Total3=Fg3*A\n",
    "final3=np.nansum(Total3,axis=1)\n",
    "final3=np.nansum(final3)/10**12\n",
    "Flux3=final3/44.011 # 10^12 mol C/yr\n",
    "print(Flux3,'3x CO2')\n",
    "\n",
    "#6x CO2\n",
    "Total6=Fg6*A\n",
    "final6=np.nansum(Total6,axis=1)\n",
    "final6=np.nansum(final6)/10**12\n",
    "Flux6=final6/44.011 # 10^12 mol C/yr\n",
    "print(Flux6,'6x CO2')\n",
    "\n",
    "#9x CO2\n",
    "Total9=Fg9*A\n",
    "final9=np.nansum(Total9,axis=1)\n",
    "final9=np.nansum(final9)/10**12\n",
    "Flux9=final9/44.011 # 10^12 mol C/yr\n",
    "print(Flux9,'9x CO2')"
   ]
  },
  {
   "cell_type": "code",
   "execution_count": null,
   "id": "2a9cd6e3-4eb6-4e73-bfff-025f6c7654a0",
   "metadata": {},
   "outputs": [],
   "source": []
  },
  {
   "cell_type": "code",
   "execution_count": null,
   "id": "886fb98b-6c63-463f-a407-f5be1c15df88",
   "metadata": {},
   "outputs": [],
   "source": []
  }
 ],
 "metadata": {
  "kernelspec": {
   "display_name": "Python 3",
   "language": "python",
   "name": "python3"
  },
  "language_info": {
   "codemirror_mode": {
    "name": "ipython",
    "version": 3
   },
   "file_extension": ".py",
   "mimetype": "text/x-python",
   "name": "python",
   "nbconvert_exporter": "python",
   "pygments_lexer": "ipython3",
   "version": "3.8.10"
  }
 },
 "nbformat": 4,
 "nbformat_minor": 5
}
